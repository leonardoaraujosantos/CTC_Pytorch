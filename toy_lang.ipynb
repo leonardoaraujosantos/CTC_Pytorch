{
 "cells": [
  {
   "cell_type": "markdown",
   "metadata": {},
   "source": [
    "# Toy Language\n",
    "To illustrate our problem we will create a toy language made of the following characters, /, --, \\, which will mean \"UP\",\"STAY\",\"DOWN\", each character might have 10 data points, and the messages (or uterances if you want to sound smart) will have 10 characters. "
   ]
  },
  {
   "cell_type": "code",
   "execution_count": 7,
   "metadata": {},
   "outputs": [],
   "source": [
    "import numpy as np\n",
    "import matplotlib.pyplot as plt\n",
    "import random\n",
    "import pickle\n",
    "\n",
    "# Simple lamda to return \n",
    "rand_char = lambda: random.randint(1,3)\n",
    "msg_len = 15\n",
    "data_size = 400"
   ]
  },
  {
   "cell_type": "code",
   "execution_count": 8,
   "metadata": {},
   "outputs": [],
   "source": [
    "def do_char(char, lst_val, N=10):\n",
    "    last_val = lst_val[-1]\n",
    "    curr_val = last_val\n",
    "    if char == 1:\n",
    "        # Up\n",
    "        inc = 1\n",
    "    elif char == 2:\n",
    "        # Down\n",
    "        inc = -1\n",
    "    elif char == 3:\n",
    "        # Stay\n",
    "        inc = 0\n",
    "    for i in range(N):\n",
    "        curr_val += inc\n",
    "        lst_val.append(curr_val)\n",
    "        \n",
    "def create_msg(msg_len):\n",
    "    signal_input = [0.0]\n",
    "    label = [rand_char() for _ in range(msg_len)]\n",
    "    [do_char(char, signal_input) for char in label];\n",
    "    return signal_input, label\n",
    "\n",
    "def val_to_str(label):\n",
    "    lst_str = []\n",
    "    for char in label:\n",
    "        if char == 1:\n",
    "            lst_str.append('UP')\n",
    "        elif char == 2:\n",
    "            lst_str.append('DOWN')\n",
    "        elif char == 3:\n",
    "            lst_str.append('STAY')\n",
    "    return lst_str"
   ]
  },
  {
   "cell_type": "code",
   "execution_count": 9,
   "metadata": {},
   "outputs": [
    {
     "name": "stdout",
     "output_type": "stream",
     "text": [
      "['DOWN', 'DOWN', 'STAY', 'UP', 'STAY', 'STAY', 'UP', 'UP', 'DOWN', 'DOWN', 'STAY', 'UP', 'STAY', 'STAY', 'UP']\n"
     ]
    }
   ],
   "source": [
    "signal_input, label = create_msg(msg_len)\n",
    "label_string = val_to_str(label)\n",
    "print(label_string)"
   ]
  },
  {
   "cell_type": "code",
   "execution_count": 10,
   "metadata": {},
   "outputs": [
    {
     "data": {
      "image/png": "[encoded data removed]",
      "text/plain": [
       "<Figure size 432x288 with 1 Axes>"
      ]
     },
     "metadata": {
      "needs_background": "light"
     },
     "output_type": "display_data"
    }
   ],
   "source": [
    "plt.plot(signal_input)\n",
    "plt.title(','.join(label_string));"
   ]
  },
  {
   "cell_type": "markdown",
   "metadata": {},
   "source": [
    "#### Create Dataset"
   ]
  },
  {
   "cell_type": "code",
   "execution_count": 11,
   "metadata": {},
   "outputs": [],
   "source": [
    "dataset = []\n",
    "for i in range(data_size):\n",
    "    signal_input, label = create_msg(msg_len)\n",
    "    dataset.append((np.array(signal_input), np.array(label)))"
   ]
  },
  {
   "cell_type": "markdown",
   "metadata": {},
   "source": [
    "#### Save Dataset to Pickle"
   ]
  },
  {
   "cell_type": "code",
   "execution_count": 12,
   "metadata": {},
   "outputs": [],
   "source": [
    "with open('dataset.pkl', 'wb') as f:\n",
    "    pickle.dump(dataset, f)"
   ]
  },
  {
   "cell_type": "code",
   "execution_count": null,
   "metadata": {},
   "outputs": [],
   "source": []
  }
 ],
 "metadata": {
  "kernelspec": {
   "display_name": "Python 3",
   "language": "python",
   "name": "python3"
  },
  "language_info": {
   "codemirror_mode": {
    "name": "ipython",
    "version": 3
   },
   "file_extension": ".py",
   "mimetype": "text/x-python",
   "name": "python",
   "nbconvert_exporter": "python",
   "pygments_lexer": "ipython3",
   "version": "3.7.4"
  }
 },
 "nbformat": 4,
 "nbformat_minor": 4
}
